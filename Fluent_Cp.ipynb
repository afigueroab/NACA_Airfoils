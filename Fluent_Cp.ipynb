{
 "cells": [
  {
   "cell_type": "code",
   "execution_count": 1,
   "metadata": {},
   "outputs": [],
   "source": [
    "# Declaring Dependencies\n",
    "import os\n",
    "import csv\n",
    "import glob\n",
    "\n",
    "import pandas as pd\n",
    "# import numpy as np"
   ]
  },
  {
   "cell_type": "code",
   "execution_count": 2,
   "metadata": {},
   "outputs": [],
   "source": [
    "# Search for all '.fl' files in directory\n",
    "files_v=[]\n",
    "for filename in glob.glob('*.fl'):\n",
    "    with open(os.path.join(os.getcwd(), filename), 'r') as f:\n",
    "        files_v.append(filename)"
   ]
  },
  {
   "cell_type": "code",
   "execution_count": 3,
   "metadata": {},
   "outputs": [],
   "source": [
    "# Reading files in folder\n",
    "for datfile in files_v:\n",
    "    t_all = []\n",
    "    f = open(datfile, \"r\", encoding='utf-8')\n",
    "    for x in f:\n",
    "        t_all.append(x)\n",
    "\n",
    "# Cleaning '\\n' at the end of lines\n",
    "    res = list(map(str.strip, t_all)) \n",
    "\n",
    "# Creating the DataFrame\n",
    "    df = pd.DataFrame(res)\n",
    "    df[['x','Cp']] = df[0].str.split(\"\\t\",expand=True) \n",
    "    df.drop(0, axis=1, inplace=True)\n",
    "    \n",
    "# Looking for the rows where 'lower' and 'upper' start\n",
    "    ind_v=[]\n",
    "    \n",
    "    for index, row in df.iterrows():\n",
    "        if row[0] == '' and row[1] == None:\n",
    "            ind_v.append(index)\n",
    "    \n",
    "    ed = df.size/2 - 2\n",
    "    ed = ed.astype('int64')\n",
    "    ind_v.append(ed)\n",
    "            \n",
    "# Adding 'lower' and 'upper' to a new column 'category'\n",
    "    df['category'] = \"\"\n",
    "    \n",
    "    for i in range(ind_v[0]+2,ind_v[1]-1):\n",
    "        df['category'][i] = \"lower\"\n",
    "\n",
    "    for j in range(ind_v[1]+2,ind_v[2]+1):\n",
    "        df['category'][j] = \"upper\"\n",
    "        \n",
    "# Deleting rows with no values\n",
    "    df = df.drop(index=range(4))\n",
    "    df = df.drop(index=[ind_v[1]-1, ind_v[1], ind_v[1]+1])\n",
    "    df = df.drop(index=[ind_v[2]+1])\n",
    "    \n",
    "# Reindexing and saving to csv file\n",
    "    df.reset_index(drop=True, inplace=True)\n",
    "    df.to_csv(datfile[0:-3] + '.csv', sep=',')\n",
    "#   np.savetxt('datfile.txt', df.values, fmt='%s')\n",
    "    "
   ]
  },
  {
   "cell_type": "code",
   "execution_count": null,
   "metadata": {},
   "outputs": [],
   "source": []
  }
 ],
 "metadata": {
  "kernelspec": {
   "display_name": "Python 3",
   "language": "python",
   "name": "python3"
  },
  "language_info": {
   "codemirror_mode": {
    "name": "ipython",
    "version": 3
   },
   "file_extension": ".py",
   "mimetype": "text/x-python",
   "name": "python",
   "nbconvert_exporter": "python",
   "pygments_lexer": "ipython3",
   "version": "3.8.5"
  }
 },
 "nbformat": 4,
 "nbformat_minor": 4
}
