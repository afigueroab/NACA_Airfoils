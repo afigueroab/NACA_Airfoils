{
 "cells": [
  {
   "cell_type": "code",
   "execution_count": 15,
   "metadata": {},
   "outputs": [],
   "source": [
    "# Declaring Dependencies\n",
    "import os\n",
    "import csv\n",
    "import glob\n",
    "\n",
    "import pandas as pd"
   ]
  },
  {
   "cell_type": "code",
   "execution_count": 16,
   "metadata": {},
   "outputs": [],
   "source": [
    "# Search for all '.xy' files in directory\n",
    "files_v=[]\n",
    "for filename in glob.glob('geom\\*.xy'):\n",
    "#     print(filename)\n",
    "    with open(os.path.join(os.getcwd(), filename), 'r') as f:\n",
    "        files_v.append(filename)\n",
    "        "
   ]
  },
  {
   "cell_type": "code",
   "execution_count": 17,
   "metadata": {},
   "outputs": [],
   "source": [
    "# Reading files in folder\n",
    "for datfile in files_v:\n",
    "    f_all = []\n",
    "    f_all_c = []\n",
    "    f = open(datfile, \"r\", encoding='utf-8')\n",
    "    for x in f:\n",
    "        f_all.append(x)\n",
    "\n",
    "# Cleaning '\\n' at the end of lines\n",
    "    res = list(map(str.strip, f_all)) \n",
    "\n",
    "# Creating a clean list. Spliting the values at \" \"\n",
    "    for line in res:\n",
    "        fields = line.split()\n",
    "        res_c = list([fields[0],fields[1]])\n",
    "        f_all_c.append(res_c)\n",
    "            \n",
    "# Creating the DataFrame\n",
    "    df = pd.DataFrame(f_all_c, columns=['x','y'])\n",
    "    df['category']=\"\"\n",
    "    \n",
    "# Adding 'lower' and 'upper' to the new column 'category'\n",
    "    for i in range(0, len(df)):\n",
    "        if float(df['y'][i]) < 0:\n",
    "            df['category'][i] = \"lower\"\n",
    "        else:\n",
    "            df['category'][i] = \"upper\"\n",
    "\n",
    "# Reindexing and saving to csv file\n",
    "    df.reset_index(drop=True, inplace=True)\n",
    "    df.to_csv(datfile[0:-3] + '.csv', sep=',')"
   ]
  },
  {
   "cell_type": "code",
   "execution_count": null,
   "metadata": {},
   "outputs": [],
   "source": []
  }
 ],
 "metadata": {
  "kernelspec": {
   "display_name": "Python 3",
   "language": "python",
   "name": "python3"
  },
  "language_info": {
   "codemirror_mode": {
    "name": "ipython",
    "version": 3
   },
   "file_extension": ".py",
   "mimetype": "text/x-python",
   "name": "python",
   "nbconvert_exporter": "python",
   "pygments_lexer": "ipython3",
   "version": "3.8.5"
  }
 },
 "nbformat": 4,
 "nbformat_minor": 4
}
