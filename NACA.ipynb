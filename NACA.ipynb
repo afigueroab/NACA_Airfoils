{
 "cells": [
  {
   "cell_type": "code",
   "execution_count": 1,
   "metadata": {},
   "outputs": [],
   "source": [
    "# Import Dependencies\n",
    "import xlrd\n",
    "import pandas as pd\n",
    "import csv\n",
    "import numpy as np\n",
    "import os"
   ]
  },
  {
   "cell_type": "markdown",
   "metadata": {},
   "source": [
    "### Excel File/Dirs"
   ]
  },
  {
   "cell_type": "code",
   "execution_count": null,
   "metadata": {},
   "outputs": [],
   "source": [
    "# Give the location of the input excel file\n",
    "loc = (\"input_data\\NACA Profiles.xlsx\")\n",
    "\n",
    "# Open the workbook\n",
    "wb = xlrd.open_workbook(loc)\n",
    "\n",
    "# Counting the number of sheets\n",
    "res = len(wb.sheets())\n",
    "# Saving the name of the excel file tabs Except of the first Summary tab\n",
    "tabs=wb.sheet_names()\n",
    "tabs=tabs[1:]\n",
    "\n",
    "# Creating the folders, if they don't exist.\n",
    "current_dir = os.getcwd()\n",
    "path1=os.path.join(current_dir, \"csvs\")\n",
    "path2=os.path.join(current_dir, \"txts\")\n",
    "\n",
    "if not os.path.isdir(path1):\n",
    "    os.mkdir(path1)\n",
    "if not os.path.isdir(path2):\n",
    "    os.mkdir(path2)"
   ]
  },
  {
   "cell_type": "code",
   "execution_count": null,
   "metadata": {},
   "outputs": [],
   "source": [
    "# This is the reader for the sheets. All sheets but the 1st.\n",
    "for sh in range(res-1):\n",
    "    xc=[]\n",
    "    yc=[]\n",
    "    sh2=sh+1\n",
    "    c_sheet = wb.sheet_by_index(sh2)\n",
    "###################################################\n",
    "# This is the reader for the rows\n",
    "\n",
    "# This is excluding the first row\n",
    "#     for i in range(c_sheet.nrows-1):\n",
    "#         q=i+1\n",
    "#         xc.append(c_sheet.cell_value(q, 0))\n",
    "#         yc.append(c_sheet.cell_value(q, 1))\n",
    "\n",
    "# This is keeping the first row\n",
    "    for i in range(c_sheet.nrows):\n",
    "        xc.append(c_sheet.cell_value(i, 0))\n",
    "        yc.append(c_sheet.cell_value(i, 1))\n",
    "##################################################        \n",
    "    df=pd.DataFrame(list(zip(xc,yc)))\n",
    "##################################################\n",
    "# If keeping the first row, it becomes the index\n",
    "    #new_header = df.iloc[0] #grab the first row for the header\n",
    "    new_header = [['x_coord', 'y_coord']] #create the first row for the header\n",
    "    df = df[1:] #take the data less the header row\n",
    "    df.columns = new_header #set the header row as the df header\n",
    "##################################################\n",
    "# DataFrames edited to match Fluent format\n",
    "    df[\"#Group\"]=1\n",
    "#    df[\"Point\"]=list(x+1 for x in range(c_sheet.nrows-1))\n",
    "    df['#Point'] = df.index\n",
    "    df[\"z_coord\"]=0\n",
    "    df=df[['#Group', '#Point', 'x_coord', 'y_coord', 'z_coord']]\n",
    "    df2=pd.DataFrame([[1,0,np.nan,np.nan,np.nan]],columns=[['#Group','#Point','x_coord','y_coord','z_coord']])\n",
    "    df=df.append(df2, ignore_index=True) \n",
    "###################################################\n",
    "# DataFrames saved to csv files\n",
    "    df.to_csv(path1 + r'\\perfil_{0}.csv'.format(tabs[sh]), index=False)\n",
    "\n",
    "# Creating and saving the text files from the csv files\n",
    "    with open(path2 + '\\\\txt_file_{0}.txt'.format(tabs[sh]), \"w\") as my_output_file:\n",
    "        with open(path1 + '\\perfil_{0}.csv'.format(tabs[sh]), \"r\") as my_input_file:\n",
    "            [ my_output_file.write(\"\\t\".join(row)+'\\n') for row in csv.reader(my_input_file)]\n",
    "        my_output_file.close()\n",
    "###################################################"
   ]
  }
 ],
 "metadata": {
  "kernelspec": {
   "display_name": "Python 3",
   "language": "python",
   "name": "python3"
  },
  "language_info": {
   "codemirror_mode": {
    "name": "ipython",
    "version": 3
   },
   "file_extension": ".py",
   "mimetype": "text/x-python",
   "name": "python",
   "nbconvert_exporter": "python",
   "pygments_lexer": "ipython3",
   "version": "3.8.5"
  }
 },
 "nbformat": 4,
 "nbformat_minor": 4
}
