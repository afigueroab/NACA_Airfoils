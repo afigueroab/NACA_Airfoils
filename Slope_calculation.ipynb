{
 "cells": [
  {
   "cell_type": "code",
   "execution_count": null,
   "metadata": {},
   "outputs": [],
   "source": [
    "# Importing Dependencies\n",
    "import os\n",
    "import csv\n",
    "\n",
    "import pandas as pd"
   ]
  },
  {
   "cell_type": "code",
   "execution_count": null,
   "metadata": {},
   "outputs": [],
   "source": [
    "# Creating the DataFrame\n",
    "csvpath = os.path.join('csvs', 'perfil_2408.csv')\n",
    "df = pd.read_csv(csvpath)"
   ]
  },
  {
   "cell_type": "code",
   "execution_count": null,
   "metadata": {},
   "outputs": [],
   "source": [
    "# Getting rid of the last line (The one with a 1 and a 0 to match Fluent requirement)\n",
    "# and saving it in a series to append later\n",
    "last_line = list(df.iloc[-1,:])\n",
    "a_series = pd.Series(last_line, index=df.columns)\n",
    "\n",
    "# Working with a DataFrame without it\n",
    "df = df.iloc[0:-1]"
   ]
  },
  {
   "cell_type": "code",
   "execution_count": null,
   "metadata": {},
   "outputs": [],
   "source": [
    "# Getting the coordinates of the fisrt 2 points\n",
    "x1 = df['x_coord'][0]\n",
    "y1 = df['y_coord'][0]\n",
    "x2 = df['x_coord'][1]\n",
    "y2 = df['y_coord'][1]\n",
    "\n",
    "# Getting the coordinates of the last 2 points\n",
    "xn = df.iloc[-1,2]\n",
    "yn = df.iloc[-1,3]\n",
    "xn_1 = df.iloc[-2,2]\n",
    "yn_1 = df.iloc[-2,3]"
   ]
  },
  {
   "cell_type": "code",
   "execution_count": null,
   "metadata": {},
   "outputs": [],
   "source": [
    "# Calculating the slopes and comparing them\n",
    "# The criteria used here will be to use the more abrupt closing shape,i.e.,the highest slope.\n",
    "\n",
    "# Slopes calculation\n",
    "mu = (y1-y2)/(x1-x2)\n",
    "ml = (yn-yn_1)/(xn-xn_1)\n",
    "\n",
    "if mu>ml:\n",
    "    m = mu\n",
    "else:\n",
    "    m = ml\n",
    "    \n",
    "# Creating the new point to be added (x3,y3)\n",
    "n = yn-m*xn\n",
    "y3 = 0\n",
    "x3 = -n/m"
   ]
  },
  {
   "cell_type": "code",
   "execution_count": null,
   "metadata": {},
   "outputs": [],
   "source": [
    "# Adding the newly created point to the last line of the DataFrame\n",
    "df3 = pd.DataFrame([[1,df.iloc[-1,1]+1,x3,y3,0]], columns=['#Group', '#Point', 'x_coord', 'y_coord', 'z_coord'])\n",
    "df = df.append(df3, ignore_index=True)"
   ]
  },
  {
   "cell_type": "code",
   "execution_count": null,
   "metadata": {},
   "outputs": [],
   "source": [
    "# Appending the last line that had been removed\n",
    "df = df.append(a_series, ignore_index=True)\n",
    "# df"
   ]
  },
  {
   "cell_type": "code",
   "execution_count": null,
   "metadata": {},
   "outputs": [],
   "source": [
    "# Saving to a new csv\n",
    "df.to_csv(r'\\perfil_2408_2.csv', index=False)"
   ]
  }
 ],
 "metadata": {
  "kernelspec": {
   "display_name": "Python 3",
   "language": "python",
   "name": "python3"
  },
  "language_info": {
   "codemirror_mode": {
    "name": "ipython",
    "version": 3
   },
   "file_extension": ".py",
   "mimetype": "text/x-python",
   "name": "python",
   "nbconvert_exporter": "python",
   "pygments_lexer": "ipython3",
   "version": "3.8.5"
  }
 },
 "nbformat": 4,
 "nbformat_minor": 4
}
